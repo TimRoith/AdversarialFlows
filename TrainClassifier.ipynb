{
 "cells": [
  {
   "cell_type": "markdown",
   "id": "ec449762-6a48-41c8-888e-a30f5e20147f",
   "metadata": {},
   "source": [
    "# Training a classifer\n",
    "\n",
    "In this notebook we train a simple classifier on the two-moosn dataset."
   ]
  },
  {
   "cell_type": "code",
   "execution_count": null,
   "id": "9941e6a0-1caa-42fd-b9d8-5743fa694ac2",
   "metadata": {},
   "outputs": [],
   "source": [
    "%load_ext autoreload\n",
    "%autoreload 2\n",
    "from sklearn.datasets import make_moons\n",
    "import matplotlib.pyplot as plt\n",
    "import torch\n",
    "import torch.nn as nn\n",
    "from torch.utils.data import DataLoader, TensorDataset\n",
    "import numpy as np"
   ]
  },
  {
   "cell_type": "code",
   "execution_count": null,
   "id": "18fa3cac-4ee3-457d-a6a2-129427221044",
   "metadata": {},
   "outputs": [],
   "source": [
    "resample = False\n",
    "if resample:\n",
    "    X,Y = make_moons(noise=0.1, random_state=0, n_samples=1000,)\n",
    "else:\n",
    "    data = np.load('data-weights/two_moons.npz')\n",
    "    X = data['X']\n",
    "    Y = data['Y']\n",
    "    \n",
    "# visualize data\n",
    "for i in [0,1]:\n",
    "    plt.scatter(\n",
    "        X[Y == i, 0],\n",
    "        X[Y == i, 1],\n",
    "        color=['Red', 'Blue'][i],\n",
    "        alpha=0.2,\n",
    "        label=\"Class \"+str(i)\n",
    "    )\n",
    "plt.xlim(-1.5, 2.5)\n",
    "plt.ylim(-1., 1.5)\n",
    "plt.legend()\n",
    "plt.tight_layout()\n",
    "plt.savefig('results/two_moons.png')"
   ]
  },
  {
   "cell_type": "code",
   "execution_count": null,
   "id": "7206e79d-e4ca-44a3-bb16-42a7c6d1d809",
   "metadata": {},
   "outputs": [],
   "source": [
    "save_data = False\n",
    "if save_data:\n",
    "    np.savez('two_moons.npz', X=X, Y=Y)"
   ]
  },
  {
   "cell_type": "markdown",
   "id": "e28530ec-4f86-4584-a086-ccede969503c",
   "metadata": {},
   "source": [
    "# Define torch dataset and loader"
   ]
  },
  {
   "cell_type": "code",
   "execution_count": null,
   "id": "3f6d306e-b959-4b04-a7f3-2e91e858752d",
   "metadata": {},
   "outputs": [],
   "source": [
    "dataset = TensorDataset(torch.tensor(X, dtype=torch.float32),torch.tensor(Y, dtype=torch.float32))\n",
    "loader  = DataLoader(dataset, batch_size=100)"
   ]
  },
  {
   "cell_type": "markdown",
   "id": "da3ea8a6-c29c-4bb1-8239-89da6565c281",
   "metadata": {},
   "source": [
    "# Define Device"
   ]
  },
  {
   "cell_type": "code",
   "execution_count": null,
   "id": "94f2faa7-c4cd-47e7-a32a-9af7e6c5340f",
   "metadata": {},
   "outputs": [],
   "source": [
    "device = 'cuda' if torch.cuda.is_available() else 'cpu'\n",
    "print('Operating on device: ' + str(device))"
   ]
  },
  {
   "cell_type": "markdown",
   "id": "20f6eaef-7bc5-43e9-a27f-447b8b811968",
   "metadata": {},
   "source": [
    "# Define neural model\n",
    "\n",
    "We define a simple neural network. The structure is copied from [\"A 'Hello World' for PyTorch\"](https://seanhoward.me/blog/2022/hello_world_pytorch/) tutorial by Sean T. Howard."
   ]
  },
  {
   "cell_type": "code",
   "execution_count": null,
   "id": "f1aa1cef-cb5f-4867-ae37-b13913986543",
   "metadata": {},
   "outputs": [],
   "source": [
    "from model import get_two_moons_model\n",
    "act_fun = 'ReLU'\n",
    "model = get_two_moons_model(act_fun=act_fun)\n",
    "model.to(device)"
   ]
  },
  {
   "cell_type": "markdown",
   "id": "a86c48df-2b74-4532-b7c7-6af5066d31fb",
   "metadata": {},
   "source": [
    "# Train network"
   ]
  },
  {
   "cell_type": "code",
   "execution_count": null,
   "id": "a72e384f-cb2d-4f1d-8d76-014617612692",
   "metadata": {
    "scrolled": true,
    "tags": []
   },
   "outputs": [],
   "source": [
    "loss = nn.MSELoss()\n",
    "opt = torch.optim.Adam(model.parameters())\n",
    "epochs = 100\n",
    "\n",
    "for i in range(epochs):\n",
    "    L = 0\n",
    "    for x,y in iter(loader):\n",
    "        x,y = (x.to(device), y.to(device))\n",
    "        opt.zero_grad()\n",
    "        l = loss(model(x), y[:,None])\n",
    "        l.backward()\n",
    "        opt.step()\n",
    "        L += l.item()\n",
    "    print('Loss: ' + str(L))"
   ]
  },
  {
   "cell_type": "markdown",
   "id": "558c2d15-7815-432e-8ddc-61a926ea96c0",
   "metadata": {},
   "source": [
    "# Check output"
   ]
  },
  {
   "cell_type": "code",
   "execution_count": null,
   "id": "c5f916fb-17e8-4a15-a63e-5376dab74117",
   "metadata": {},
   "outputs": [],
   "source": [
    "Xgrid,Ygrid = torch.meshgrid(torch.linspace(-1.5,2.5, 100), torch.linspace(-1,1.5, 100), indexing='ij')\n",
    "inp = torch.stack([Xgrid.ravel(), Ygrid.ravel()], dim=1).to(device)\n",
    "Z = model(inp).reshape(Xgrid.shape)\n",
    "\n",
    "plt.contourf(Xgrid.numpy(), Ygrid.numpy(), Z.detach().cpu().numpy(), cmap='coolwarm_r', levels=100, alpha=1)\n",
    "plt.xlim(-1.5, 2.5)\n",
    "plt.ylim(-1., 1.5)\n",
    "plt.tight_layout()\n",
    "plt.savefig('results/netvis_' + act_fun)"
   ]
  },
  {
   "cell_type": "markdown",
   "id": "107eb5e7-8b8d-4c31-b39d-7bf32779f5ff",
   "metadata": {},
   "source": [
    "# Save weights"
   ]
  },
  {
   "cell_type": "code",
   "execution_count": null,
   "id": "1aa1c1f5-c8d1-4a05-841e-f65048114bef",
   "metadata": {},
   "outputs": [],
   "source": [
    "save_weights = False\n",
    "if save_weights:\n",
    "    torch.save(model.state_dict(), 'data-weights/two_moons_' + act_fun + '.pt')"
   ]
  },
  {
   "cell_type": "markdown",
   "id": "0940250f-874a-4058-b4c2-980bdd0a39cb",
   "metadata": {},
   "source": [
    "# Load weights"
   ]
  },
  {
   "cell_type": "code",
   "execution_count": null,
   "id": "b46db0db-384e-4073-89a8-8f257a42ee84",
   "metadata": {},
   "outputs": [],
   "source": [
    "load_weights = True\n",
    "if load_weights:\n",
    "    model.load_state_dict(torch.load('data-weights/two_moons_' + act_fun + '.pt', map_location=device))"
   ]
  }
 ],
 "metadata": {
  "kernelspec": {
   "display_name": "AdvFlow (py3.11)",
   "language": "python",
   "name": "advflow"
  },
  "language_info": {
   "codemirror_mode": {
    "name": "ipython",
    "version": 3
   },
   "file_extension": ".py",
   "mimetype": "text/x-python",
   "name": "python",
   "nbconvert_exporter": "python",
   "pygments_lexer": "ipython3",
   "version": "3.12.3"
  }
 },
 "nbformat": 4,
 "nbformat_minor": 5
}
