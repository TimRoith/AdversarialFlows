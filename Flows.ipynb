{
 "cells": [
  {
   "cell_type": "markdown",
   "id": "ba0236a8-b5af-4ee9-92bf-151c8c50dd72",
   "metadata": {},
   "source": [
    "# Computing Adversarial Flows\n",
    "\n",
    "In this notebook we load a trained model and compute the FGSM and minimizing movement iterations."
   ]
  },
  {
   "cell_type": "code",
   "execution_count": null,
   "id": "24d1f51d-b2b4-4433-9b55-c4a0728bc91e",
   "metadata": {},
   "outputs": [],
   "source": [
    "%load_ext autoreload\n",
    "%autoreload 2\n",
    "import matplotlib.pyplot as plt\n",
    "from matplotlib.collections import PatchCollection\n",
    "from matplotlib.patches import Rectangle\n",
    "import torch\n",
    "from flows import adv_loss, get_cbo, FGSM, MinMove\n",
    "from plots import plot_rect_budget, plot_fun"
   ]
  },
  {
   "cell_type": "markdown",
   "id": "0cbd442b-2eff-4a34-9504-ba0e088e8437",
   "metadata": {},
   "source": [
    "# Define Device"
   ]
  },
  {
   "cell_type": "code",
   "execution_count": null,
   "id": "5d79820e-aa50-4d08-b867-6de41ca0bc8f",
   "metadata": {},
   "outputs": [],
   "source": [
    "device = 'cuda' if torch.cuda.is_available() else 'cpu'\n",
    "print('Operating on device: ' + str(device))"
   ]
  },
  {
   "cell_type": "markdown",
   "id": "3af129bd-b857-4df5-8fce-96216e17b813",
   "metadata": {},
   "source": [
    "# Load model and define loss"
   ]
  },
  {
   "cell_type": "code",
   "execution_count": null,
   "id": "cc6caee8-4521-439d-baeb-ca945808b18d",
   "metadata": {},
   "outputs": [],
   "source": [
    "from model import get_two_moons_model\n",
    "act_fun = 'ReLU'\n",
    "model = get_two_moons_model(act_fun=act_fun)\n",
    "model.load_state_dict(torch.load('data-weights/two_moons_'+ act_fun + '.pt', map_location=device))\n",
    "if act_fun == 'GeLU':\n",
    "    x0 = torch.tensor([0.45,0.3], device=device)[None,:]\n",
    "    epsilon = 0.25\n",
    "else:\n",
    "    x0 = torch.tensor([0.1,0.55], device=device)[None,:]\n",
    "    epsilon = 0.2\n",
    "model.eval()\n",
    "model.to(device)"
   ]
  },
  {
   "cell_type": "markdown",
   "id": "acd4bb33-afea-4303-a7bd-bee91e29731e",
   "metadata": {},
   "source": [
    "# Define initial value, budget and loss"
   ]
  },
  {
   "cell_type": "code",
   "execution_count": null,
   "id": "bf351f0e-a311-4a60-85dc-22e00f88777f",
   "metadata": {},
   "outputs": [],
   "source": [
    "oup = model(x0).item()\n",
    "y = 1*(oup>0.5)\n",
    "print('Output on original point: ' + str(oup))\n",
    "print('Class: ' +str(y))\n",
    "E = adv_loss(model, y=y)"
   ]
  },
  {
   "cell_type": "markdown",
   "id": "14e21057-67eb-46f7-8e10-cdfa74b72161",
   "metadata": {},
   "source": [
    "# Run FGSM an minimizing movement"
   ]
  },
  {
   "cell_type": "code",
   "execution_count": null,
   "id": "eaa68121-9a1e-48d2-800f-9924065446c0",
   "metadata": {
    "scrolled": true,
    "tags": []
   },
   "outputs": [],
   "source": [
    "taus = [epsilon, epsilon*0.5, epsilon*0.1, 1e-3]\n",
    "stepsizes = [1, 3, 50, 100]\n",
    "\n",
    "def run_iterations(x0, taus, stepsizes = None, T=1):\n",
    "    stepsizes = [int(T/tau) for tau in taus] if stepsizes is None else stepsizes\n",
    "    print('Computing for taus: ' + str(taus))\n",
    "    print('Computing with stepsizes: ' + str(stepsizes))\n",
    "    hs = {}\n",
    "    opts = [{'opt':FGSM, 'kwargs':{}}, {'opt':MinMove, 'kwargs':{'max_inner_it':30, 'N':30, 'alpha':10**8}}]\n",
    "    T = 1\n",
    "\n",
    "    for o in opts:\n",
    "        for i,tau in enumerate(taus):\n",
    "            tau = round(tau,3)\n",
    "            opt = o['opt'](x0, E, epsilon=epsilon, tau=tau, **o['kwargs'])\n",
    "            opt.optimize(max_iter=stepsizes[i])\n",
    "            print('Finished for opt = ' + opt.__class__.__name__ + ', tau = ' + str(tau))\n",
    "            hs[opt.__class__.__name__ + str(tau)] = (torch.stack(opt.hist).numpy(), tau)\n",
    "    print(30*'-')\n",
    "    print('Finished all.')\n",
    "    return hs\n",
    "    \n",
    "hs = run_iterations(x0, taus)"
   ]
  },
  {
   "cell_type": "markdown",
   "id": "a2ddd35e-c3ce-45a4-b79f-4fc56a074adc",
   "metadata": {},
   "source": [
    "# Plotting"
   ]
  },
  {
   "cell_type": "code",
   "execution_count": null,
   "id": "e17a5739-c653-4d28-8b49-66240380fb65",
   "metadata": {},
   "outputs": [],
   "source": [
    "from matplotlib import ticker\n",
    "\n",
    "def plot_iterations(hs, save_fig=False, colorbar=False):\n",
    "    colors = ['xkcd:apple green', 'xkcd:hot pink', 'xkcd:hot pink', 'xkcd:hot pink', 'xkcd:seafoam', 'xkcd:slate blue', 'xkcd:light yellow']\n",
    "    for k in hs.keys():\n",
    "        x, tau = hs[k]\n",
    "        fig, ax = plt.subplots()\n",
    "        ax.axis('off')\n",
    "        ax.axis('square')\n",
    "        ax.set_xlim(x[0,0,0]-1.25*epsilon, x[0,0,0] + 1.25*epsilon)\n",
    "        ax.set_ylim(x[0,0,1]-1.25*epsilon, x[0,0,1] + 1.25*epsilon)\n",
    "        xyrange = [(x[0,0,i].item() - 1.2 *epsilon, x[0,0,i].item() + 1.2 *epsilon) for i in [0,1]]\n",
    "        cf = plot_fun(ax, E, cmap='coolwarm', device=device, xrange= xyrange[0], yrange=xyrange[1], locator=ticker.LogLocator(numticks=50, subs='auto'),)\n",
    "        plot_rect_budget(ax, x[0,0,:], r=epsilon)\n",
    "        rectangles = [Rectangle(x[j,0,:] - tau, 2*tau, 2*tau, fill=False, color=colors[1], linewidth=3) \n",
    "                      for j in range(x.shape[0]-1)]\n",
    "        ax.add_collection(PatchCollection(rectangles, match_original=True))\n",
    "        ax.plot(x[:,0,0], x[:,0,1], linewidth=6, color=colors[0], alpha=1., \n",
    "                label=tau, marker='o', markersize=10)\n",
    "        if colorbar:\n",
    "            plt.colorbar(cf)\n",
    "        if save_fig:\n",
    "            plt.tight_layout(pad=0., h_pad=0., w_pad=0.)\n",
    "            plt.savefig('results/Flow_'+act_fun + '_' +k+'.png')\n",
    "    \n",
    "plot_iterations(hs, save_fig=True)"
   ]
  },
  {
   "cell_type": "markdown",
   "id": "fb143355-5e01-40c8-8710-9c0bf9558710",
   "metadata": {},
   "source": [
    "# Plot specific points"
   ]
  },
  {
   "cell_type": "code",
   "execution_count": null,
   "id": "271932e8-a534-4efb-8f66-635eea3fa449",
   "metadata": {},
   "outputs": [],
   "source": [
    "a = [-0.3214, -0.5019] #[0.9425, 0.4066] # [ -0.8411, -0.9329]\n",
    "x0 = torch.tensor(a, device=device)[None,:]\n",
    "\n",
    "hs = run_iterations(x0, [0.001])\n",
    "plot_iterations(hs, colorbar=True)"
   ]
  }
 ],
 "metadata": {
  "kernelspec": {
   "display_name": "AdvFlow (py3.11)",
   "language": "python",
   "name": "advflow"
  },
  "language_info": {
   "codemirror_mode": {
    "name": "ipython",
    "version": 3
   },
   "file_extension": ".py",
   "mimetype": "text/x-python",
   "name": "python",
   "nbconvert_exporter": "python",
   "pygments_lexer": "ipython3",
   "version": "3.12.3"
  }
 },
 "nbformat": 4,
 "nbformat_minor": 5
}
